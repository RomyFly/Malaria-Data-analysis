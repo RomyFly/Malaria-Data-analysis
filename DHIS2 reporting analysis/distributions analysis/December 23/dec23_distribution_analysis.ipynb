{
 "cells": [
  {
   "cell_type": "markdown",
   "id": "ed9bd982-b05b-4c06-b53d-d5d0b9e5099b",
   "metadata": {},
   "source": [
    "the purpose of this notebook is to analyse if the data related to quantities received by health facilities match with the data from regional level"
   ]
  },
  {
   "cell_type": "code",
   "execution_count": 1,
   "id": "62a82b8f-22db-4244-bfb2-ea12d5b88202",
   "metadata": {
    "tags": []
   },
   "outputs": [],
   "source": [
    "#1 librairies importations\n",
    "\n",
    "import pandas as pd\n",
    "import numpy as np"
   ]
  },
  {
   "cell_type": "code",
   "execution_count": 2,
   "id": "6de6dd8c-6286-451d-b326-c624734ee3bb",
   "metadata": {
    "tags": []
   },
   "outputs": [
    {
     "data": {
      "text/plain": [
       "['Données DHIS2', 'Allocation North', 'Allocation Far North']"
      ]
     },
     "execution_count": 2,
     "metadata": {},
     "output_type": "execute_result"
    }
   ],
   "source": [
    "#Explore the sheet names of the files\n",
    "pd.ExcelFile('Data Allocations dec 23.xlsx').sheet_names\n",
    "lst_sheet=pd.ExcelFile('Data Allocations dec 23.xlsx').sheet_names\n",
    "lst_sheet\n"
   ]
  },
  {
   "cell_type": "code",
   "execution_count": 3,
   "id": "3953d2ec-6041-4367-8fda-45acd65616c1",
   "metadata": {
    "tags": []
   },
   "outputs": [],
   "source": [
    "df0=pd.read_excel('Data Allocations dec 23.xlsx', sheet_name =lst_sheet[0])\n",
    "df1=pd.read_excel('Data Allocations dec 23.xlsx', sheet_name =lst_sheet[1])\n",
    "df2=pd.read_excel('Data Allocations dec 23.xlsx', sheet_name =lst_sheet[2])"
   ]
  },
  {
   "cell_type": "code",
   "execution_count": 4,
   "id": "0e1d07a0-4c58-4d32-8fe5-0240e0dc70bf",
   "metadata": {
    "tags": []
   },
   "outputs": [
    {
     "data": {
      "text/plain": [
       "Index(['Regions', 'Health Districts', 'Health Areas', 'Health Facilities',\n",
       "       'Periods', 'RMA Overall Completness', 'RMA Overall Promptness',\n",
       "       'Initial stock', 'Entry', 'Dispensed quantities', 'Declared AMCs',\n",
       "       'Wasted quantities', 'Stock on hand', 'Nb Stock out days',\n",
       "       'within 3 months expire risk  quantities', 'Calculated AMC',\n",
       "       'Declared Functional Facility', 'Inability to treat with AL',\n",
       "       'All 4 AL availability', 'Under 5 AL availability',\n",
       "       'Number of AL available',\n",
       "       'Gap (%) between tested cases in HFs and mRDT dispensation',\n",
       "       'Gap (%) between treated cases with AL and AL dispensations',\n",
       "       'Treated Cases in HFs', 'Drugs or Commodities labels',\n",
       "       'Reporting Across the Product', 'Month of stock', 'Stock status',\n",
       "       'Acurate Data', 'Month m-1 Dispensations', 'Month m-1  Stock on hand',\n",
       "       'Month m-1  Treated Cases in HFs'],\n",
       "      dtype='object')"
      ]
     },
     "execution_count": 4,
     "metadata": {},
     "output_type": "execute_result"
    }
   ],
   "source": [
    "df0.dtypes.index"
   ]
  },
  {
   "cell_type": "code",
   "execution_count": 5,
   "id": "ea07fc37-7714-4389-a78c-387431b6eefc",
   "metadata": {
    "tags": []
   },
   "outputs": [
    {
     "data": {
      "text/html": [
       "<div>\n",
       "<style scoped>\n",
       "    .dataframe tbody tr th:only-of-type {\n",
       "        vertical-align: middle;\n",
       "    }\n",
       "\n",
       "    .dataframe tbody tr th {\n",
       "        vertical-align: top;\n",
       "    }\n",
       "\n",
       "    .dataframe thead th {\n",
       "        text-align: right;\n",
       "    }\n",
       "</style>\n",
       "<table border=\"1\" class=\"dataframe\">\n",
       "  <thead>\n",
       "    <tr style=\"text-align: right;\">\n",
       "      <th></th>\n",
       "      <th>Regions</th>\n",
       "      <th>Health Districts</th>\n",
       "      <th>Health Areas</th>\n",
       "      <th>Health Facilities</th>\n",
       "      <th>Periods</th>\n",
       "      <th>Drugs or Commodities labels</th>\n",
       "      <th>Entry</th>\n",
       "      <th>Calculated AMC</th>\n",
       "    </tr>\n",
       "  </thead>\n",
       "  <tbody>\n",
       "    <tr>\n",
       "      <th>0</th>\n",
       "      <td>North Region</td>\n",
       "      <td>District Gaschiga</td>\n",
       "      <td>AS Bascheo</td>\n",
       "      <td>CMA Bacheo (Ex CSI)</td>\n",
       "      <td>2023-12-01</td>\n",
       "      <td>Artemether Lumefantrine 120/20 mg 6*1</td>\n",
       "      <td>NaN</td>\n",
       "      <td>22.0</td>\n",
       "    </tr>\n",
       "    <tr>\n",
       "      <th>1</th>\n",
       "      <td>Far North Region</td>\n",
       "      <td>District Mora</td>\n",
       "      <td>AS Kourgui</td>\n",
       "      <td>CMM 42° BIM (CMA militaire 42e bim)</td>\n",
       "      <td>2023-12-01</td>\n",
       "      <td>Artemether Lumefantrine 120/20 mg 6*1</td>\n",
       "      <td>NaN</td>\n",
       "      <td>64.0</td>\n",
       "    </tr>\n",
       "    <tr>\n",
       "      <th>2</th>\n",
       "      <td>North Region</td>\n",
       "      <td>District Garoua 2</td>\n",
       "      <td>AS Poumpoumre</td>\n",
       "      <td>Cabinet de soin le Bien être (Closed)</td>\n",
       "      <td>2023-12-01</td>\n",
       "      <td>Artemether Lumefantrine 120/20 mg 6*1</td>\n",
       "      <td>NaN</td>\n",
       "      <td>NaN</td>\n",
       "    </tr>\n",
       "    <tr>\n",
       "      <th>3</th>\n",
       "      <td>North Region</td>\n",
       "      <td>District Garoua 2</td>\n",
       "      <td>AS Poumpoumre</td>\n",
       "      <td>Cabinet de soin Marouare</td>\n",
       "      <td>2023-12-01</td>\n",
       "      <td>Artemether Lumefantrine 120/20 mg 6*1</td>\n",
       "      <td>360.0</td>\n",
       "      <td>15.0</td>\n",
       "    </tr>\n",
       "    <tr>\n",
       "      <th>4</th>\n",
       "      <td>Far North Region</td>\n",
       "      <td>District Maroua 3</td>\n",
       "      <td>AS Dougoi 1</td>\n",
       "      <td>Cabinet de Soins Al-Karim</td>\n",
       "      <td>2023-12-01</td>\n",
       "      <td>Artemether Lumefantrine 120/20 mg 6*1</td>\n",
       "      <td>NaN</td>\n",
       "      <td>NaN</td>\n",
       "    </tr>\n",
       "    <tr>\n",
       "      <th>...</th>\n",
       "      <td>...</td>\n",
       "      <td>...</td>\n",
       "      <td>...</td>\n",
       "      <td>...</td>\n",
       "      <td>...</td>\n",
       "      <td>...</td>\n",
       "      <td>...</td>\n",
       "      <td>...</td>\n",
       "    </tr>\n",
       "    <tr>\n",
       "      <th>9499</th>\n",
       "      <td>North Region</td>\n",
       "      <td>District Tchollire</td>\n",
       "      <td>AS Tchollire</td>\n",
       "      <td>Infirmerie sodecoton Tchollire</td>\n",
       "      <td>2023-12-01</td>\n",
       "      <td>LLIN</td>\n",
       "      <td>NaN</td>\n",
       "      <td>NaN</td>\n",
       "    </tr>\n",
       "    <tr>\n",
       "      <th>9500</th>\n",
       "      <td>North Region</td>\n",
       "      <td>District Touboro</td>\n",
       "      <td>AS Touboro</td>\n",
       "      <td>Infirmerie Sodecoton Touboro</td>\n",
       "      <td>2023-12-01</td>\n",
       "      <td>LLIN</td>\n",
       "      <td>NaN</td>\n",
       "      <td>NaN</td>\n",
       "    </tr>\n",
       "    <tr>\n",
       "      <th>9501</th>\n",
       "      <td>North Region</td>\n",
       "      <td>District Tchollire</td>\n",
       "      <td>AS Hormbali</td>\n",
       "      <td>Oeuvre de Sante Tapen de Gop-Rey</td>\n",
       "      <td>2023-12-01</td>\n",
       "      <td>LLIN</td>\n",
       "      <td>NaN</td>\n",
       "      <td>NaN</td>\n",
       "    </tr>\n",
       "    <tr>\n",
       "      <th>9502</th>\n",
       "      <td>Far North Region</td>\n",
       "      <td>District Goulfey</td>\n",
       "      <td>AS Maltam</td>\n",
       "      <td>PMI  Maltam</td>\n",
       "      <td>2023-12-01</td>\n",
       "      <td>LLIN</td>\n",
       "      <td>NaN</td>\n",
       "      <td>NaN</td>\n",
       "    </tr>\n",
       "    <tr>\n",
       "      <th>9503</th>\n",
       "      <td>Far North Region</td>\n",
       "      <td>District Fotokol</td>\n",
       "      <td>AS Fotokol</td>\n",
       "      <td>PSF FOTOKOL (delete)</td>\n",
       "      <td>2023-12-01</td>\n",
       "      <td>LLIN</td>\n",
       "      <td>NaN</td>\n",
       "      <td>NaN</td>\n",
       "    </tr>\n",
       "  </tbody>\n",
       "</table>\n",
       "<p>9504 rows × 8 columns</p>\n",
       "</div>"
      ],
      "text/plain": [
       "               Regions    Health Districts   Health Areas  \\\n",
       "0         North Region   District Gaschiga     AS Bascheo   \n",
       "1     Far North Region       District Mora     AS Kourgui   \n",
       "2         North Region   District Garoua 2  AS Poumpoumre   \n",
       "3         North Region   District Garoua 2  AS Poumpoumre   \n",
       "4     Far North Region   District Maroua 3    AS Dougoi 1   \n",
       "...                ...                 ...            ...   \n",
       "9499      North Region  District Tchollire   AS Tchollire   \n",
       "9500      North Region    District Touboro     AS Touboro   \n",
       "9501      North Region  District Tchollire    AS Hormbali   \n",
       "9502  Far North Region    District Goulfey      AS Maltam   \n",
       "9503  Far North Region    District Fotokol     AS Fotokol   \n",
       "\n",
       "                          Health Facilities    Periods  \\\n",
       "0                       CMA Bacheo (Ex CSI) 2023-12-01   \n",
       "1       CMM 42° BIM (CMA militaire 42e bim) 2023-12-01   \n",
       "2     Cabinet de soin le Bien être (Closed) 2023-12-01   \n",
       "3                  Cabinet de soin Marouare 2023-12-01   \n",
       "4                 Cabinet de Soins Al-Karim 2023-12-01   \n",
       "...                                     ...        ...   \n",
       "9499         Infirmerie sodecoton Tchollire 2023-12-01   \n",
       "9500           Infirmerie Sodecoton Touboro 2023-12-01   \n",
       "9501       Oeuvre de Sante Tapen de Gop-Rey 2023-12-01   \n",
       "9502                            PMI  Maltam 2023-12-01   \n",
       "9503                   PSF FOTOKOL (delete) 2023-12-01   \n",
       "\n",
       "                Drugs or Commodities labels  Entry  Calculated AMC  \n",
       "0     Artemether Lumefantrine 120/20 mg 6*1    NaN            22.0  \n",
       "1     Artemether Lumefantrine 120/20 mg 6*1    NaN            64.0  \n",
       "2     Artemether Lumefantrine 120/20 mg 6*1    NaN             NaN  \n",
       "3     Artemether Lumefantrine 120/20 mg 6*1  360.0            15.0  \n",
       "4     Artemether Lumefantrine 120/20 mg 6*1    NaN             NaN  \n",
       "...                                     ...    ...             ...  \n",
       "9499                                   LLIN    NaN             NaN  \n",
       "9500                                   LLIN    NaN             NaN  \n",
       "9501                                   LLIN    NaN             NaN  \n",
       "9502                                   LLIN    NaN             NaN  \n",
       "9503                                   LLIN    NaN             NaN  \n",
       "\n",
       "[9504 rows x 8 columns]"
      ]
     },
     "execution_count": 5,
     "metadata": {},
     "output_type": "execute_result"
    }
   ],
   "source": [
    "df0=df0[['Regions', 'Health Districts', 'Health Areas', 'Health Facilities',\n",
    "       'Periods','Drugs or Commodities labels','Entry','Calculated AMC']]\n",
    "df0"
   ]
  },
  {
   "cell_type": "code",
   "execution_count": 6,
   "id": "199028a9-e126-4296-b9da-0d956c4cb609",
   "metadata": {
    "tags": []
   },
   "outputs": [],
   "source": [
    "df0=df0[df0['Drugs or Commodities labels']\n",
    "        != '4 AL forms']"
   ]
  },
  {
   "cell_type": "code",
   "execution_count": 7,
   "id": "2facfd83-df18-4111-b866-7dc1f2764ee5",
   "metadata": {
    "tags": []
   },
   "outputs": [
    {
     "data": {
      "text/plain": [
       "array(['Artemether Lumefantrine 120/20 mg 6*1',\n",
       "       'Artemether Lumefantrine 120/20 mg 6*2',\n",
       "       'Artemether Lumefantrine 120/20 mg 6*3',\n",
       "       'Artemether Lumefantrine 120/20 mg 6*4', 'Artesunate 60 mg inj',\n",
       "       'Artemether 80 mg inj', 'Quinine inj',\n",
       "       'Sulfadoxine Pyrimetamine 500/25 mg 3tabs', 'Malaria RDT', 'LLIN'],\n",
       "      dtype=object)"
      ]
     },
     "execution_count": 7,
     "metadata": {},
     "output_type": "execute_result"
    }
   ],
   "source": [
    "pdt_nm=np.array(df0['Drugs or Commodities labels'].unique())\n",
    "pdt_nm"
   ]
  },
  {
   "cell_type": "code",
   "execution_count": 8,
   "id": "137c73c7-23d8-46eb-9999-ba8839326891",
   "metadata": {
    "tags": []
   },
   "outputs": [],
   "source": [
    "df1.drop(['Unnamed: 14','Unnamed: 15','Unnamed: 16'], axis=1,\n",
    "         inplace=True)"
   ]
  },
  {
   "cell_type": "code",
   "execution_count": 9,
   "id": "16560ed3-add9-454b-87f7-22a9c7636c92",
   "metadata": {
    "tags": []
   },
   "outputs": [
    {
     "data": {
      "text/plain": [
       "Region                       object\n",
       "District                     object\n",
       "Aire                         object\n",
       "FOSA                         object\n",
       "AL 6*1 B/30                 float64\n",
       "AL 6*2 B/30                 float64\n",
       "AL 6*3 B/30                 float64\n",
       "AL 6*4 B/30                 float64\n",
       "ARTESUN B/100               float64\n",
       "TDR ASCp B/25               float64\n",
       "Proportion TDR ASCp B/25    float64\n",
       "TDR FOSA B/25               float64\n",
       "SP\\n B/50                   float64\n",
       "Artesunate Suppo \\nB/2      float64\n",
       "dtype: object"
      ]
     },
     "execution_count": 9,
     "metadata": {},
     "output_type": "execute_result"
    }
   ],
   "source": [
    "df1.dtypes"
   ]
  },
  {
   "cell_type": "code",
   "execution_count": 10,
   "id": "d0d0a52d-2490-443b-82c9-f4bea6db8fb9",
   "metadata": {
    "tags": []
   },
   "outputs": [
    {
     "name": "stdout",
     "output_type": "stream",
     "text": [
      "AL 6*1 B/30\n",
      "AL 6*2 B/30\n",
      "AL 6*3 B/30\n",
      "AL 6*4 B/30\n",
      "ARTESUN B/100\n",
      "TDR ASCp B/25\n",
      "Proportion TDR ASCp B/25\n",
      "TDR FOSA B/25\n",
      "SP\n",
      " B/50\n",
      "Artesunate Suppo \n",
      "B/2\n"
     ]
    }
   ],
   "source": [
    "n=4\n",
    "for i in range(len(pdt_nm)):\n",
    "    print(df1.dtypes.index[n+i])\n",
    "    #df1.dtypes.index[i]=pdt_nm[i]\n",
    "    i=i+1"
   ]
  },
  {
   "cell_type": "code",
   "execution_count": 11,
   "id": "feb536ff-e381-4960-9431-dc9e345bd06e",
   "metadata": {
    "tags": []
   },
   "outputs": [],
   "source": [
    "#lst=[]\n",
    "#for i in range(0,len(df1.shape)):\n",
    "    #lst.append(df1.shape[i])\n",
    "    #i=i+1\n",
    "#lst\n",
    "    "
   ]
  },
  {
   "cell_type": "code",
   "execution_count": 12,
   "id": "594d2fba-24d9-492f-881f-3f65ad121641",
   "metadata": {},
   "outputs": [],
   "source": [
    "#lst=[]\n",
    "#for i in range(0,df1.shape[0],1):\n",
    "    #lst.append(i)\n",
    "    #i=i+1"
   ]
  },
  {
   "cell_type": "code",
   "execution_count": 13,
   "id": "44c84e1a-ac10-44fe-8704-d7a7b6c7239f",
   "metadata": {
    "tags": []
   },
   "outputs": [],
   "source": [
    "#lst=np.array(lst)"
   ]
  },
  {
   "cell_type": "code",
   "execution_count": 14,
   "id": "4b520da6-b17e-42a9-af6a-aa8ce035115a",
   "metadata": {},
   "outputs": [],
   "source": [
    "#df1.insert(2,\"id\",lst,True)"
   ]
  },
  {
   "cell_type": "code",
   "execution_count": 16,
   "id": "20776a5f-79eb-4203-b007-74c04ca8b8e9",
   "metadata": {
    "tags": []
   },
   "outputs": [],
   "source": [
    "#df1"
   ]
  },
  {
   "cell_type": "code",
   "execution_count": 18,
   "id": "b6e91f8e-f197-45c7-a178-ce3a3420cfe6",
   "metadata": {
    "tags": []
   },
   "outputs": [
    {
     "data": {
      "text/plain": [
       "pandas.core.indexes.base.Index"
      ]
     },
     "execution_count": 18,
     "metadata": {},
     "output_type": "execute_result"
    }
   ],
   "source": [
    "type(df1.columns)"
   ]
  },
  {
   "cell_type": "code",
   "execution_count": null,
   "id": "1a82a198-4731-4fd6-85a5-acbb8e57c991",
   "metadata": {},
   "outputs": [],
   "source": []
  }
 ],
 "metadata": {
  "kernelspec": {
   "display_name": "Python 3 (ipykernel)",
   "language": "python",
   "name": "python3"
  },
  "language_info": {
   "codemirror_mode": {
    "name": "ipython",
    "version": 3
   },
   "file_extension": ".py",
   "mimetype": "text/x-python",
   "name": "python",
   "nbconvert_exporter": "python",
   "pygments_lexer": "ipython3",
   "version": "3.11.5"
  }
 },
 "nbformat": 4,
 "nbformat_minor": 5
}
